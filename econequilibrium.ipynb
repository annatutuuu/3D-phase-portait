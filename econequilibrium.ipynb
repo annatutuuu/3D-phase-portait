{
  "nbformat": 4,
  "nbformat_minor": 0,
  "metadata": {
    "colab": {
      "provenance": [],
      "authorship_tag": "ABX9TyPHunNUjTFTlbCO5jdeYNrZ",
      "include_colab_link": true
    },
    "kernelspec": {
      "name": "python3",
      "display_name": "Python 3"
    },
    "language_info": {
      "name": "python"
    }
  },
  "cells": [
    {
      "cell_type": "markdown",
      "metadata": {
        "id": "view-in-github",
        "colab_type": "text"
      },
      "source": [
        "<a href=\"https://colab.research.google.com/github/annatutuuu/3D-phase-portrait/blob/main/econequilibrium.ipynb\" target=\"_parent\"><img src=\"https://colab.research.google.com/assets/colab-badge.svg\" alt=\"Open In Colab\"/></a>"
      ]
    },
    {
      "cell_type": "code",
      "execution_count": 1,
      "metadata": {
        "id": "HngirOkjx13-"
      },
      "outputs": [],
      "source": [
        "import numpy as np"
      ]
    },
    {
      "cell_type": "code",
      "source": [
        "def iterate_prices(a, b, c1, c2, n):\n",
        "    # Initialize p1 and p2\n",
        "    p1 = (a + c2) / 2\n",
        "    p2 = 0\n",
        "\n",
        "    # Iterative calculation\n",
        "    for k in range(1, n + 1):\n",
        "        p1 = (a + b * p2 + c1) / 2\n",
        "        p2 = (a + b * p1 + c2) / 2\n",
        "\n",
        "    return p1, p2\n",
        "\n",
        "# Define the input parameters\n",
        "a = 9246  # Example value for a\n",
        "b = 0.75  # Example value for b\n",
        "c1 = 900  # Example value for c1\n",
        "c2 = 1023  # Example value for c2\n",
        "n = 3    # The number of iterations as specified by the user\n",
        "\n",
        "# Calculate the equilibrium prices after n iterations\n",
        "p1Eq, p2Eq = iterate_prices(a, b, c1, c2, n)\n",
        "\n",
        "# Printing the results using the specified string formatting\n",
        "print(\"%0.2f %0.2f\" % (p1Eq, p2Eq))"
      ],
      "metadata": {
        "colab": {
          "base_uri": "https://localhost:8080/"
        },
        "id": "SX2PriPAx3Dv",
        "outputId": "c13bfe4f-a37d-4242-f8bb-86bb3abf9a51"
      },
      "execution_count": 45,
      "outputs": [
        {
          "output_type": "stream",
          "name": "stdout",
          "text": [
            "8082.91 8165.59\n"
          ]
        }
      ]
    }
  ]
}